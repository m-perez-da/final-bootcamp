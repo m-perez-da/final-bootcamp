{
 "cells": [
  {
   "cell_type": "code",
   "execution_count": 1,
   "id": "7ac0d8b0",
   "metadata": {},
   "outputs": [],
   "source": [
    "#pip install yfinance"
   ]
  },
  {
   "cell_type": "code",
   "execution_count": 1,
   "id": "e3707f7e",
   "metadata": {},
   "outputs": [],
   "source": [
    "import pandas as pd\n",
    "import numpy as np"
   ]
  },
  {
   "cell_type": "code",
   "execution_count": 2,
   "id": "f17e7f5a",
   "metadata": {},
   "outputs": [],
   "source": [
    "import yfinance as yf"
   ]
  },
  {
   "cell_type": "code",
   "execution_count": 3,
   "id": "f1d09fa6",
   "metadata": {},
   "outputs": [],
   "source": [
    "# Futures Tickers \n",
    "# Crude Oil (CL=F)\n",
    "# Natural Gas (NG=F)\n",
    "# Coal (not available) -> London Metal Exchange\n",
    "# Copper (HG=F)\n",
    "# Aluminum (ALI=F)\n",
    "# Steel (not available) -> London Metal Exchange\n",
    "tickers=['CL=F', 'NG=F', 'HG=F', 'ALI=F']"
   ]
  },
  {
   "cell_type": "code",
   "execution_count": 4,
   "id": "5434159b",
   "metadata": {},
   "outputs": [],
   "source": [
    "data=pd.DataFrame()\n",
    "for ticker in tickers:\n",
    "    quotes=yf.Ticker(ticker)\n",
    "    df=quotes.history(interval='1mo', start=\"2015-01-01\", end=\"2021-12-30\")\n",
    "    data[ticker]=df['Open']"
   ]
  },
  {
   "cell_type": "code",
   "execution_count": 7,
   "id": "6c77dec4",
   "metadata": {},
   "outputs": [
    {
     "data": {
      "text/plain": [
       "{'exchange': 'CMX',\n",
       " 'shortName': 'Aluminum Futures,Apr-2022',\n",
       " 'exchangeTimezoneName': 'America/New_York',\n",
       " 'exchangeTimezoneShortName': 'EST',\n",
       " 'isEsgPopulated': False,\n",
       " 'gmtOffSetMilliseconds': '-18000000',\n",
       " 'underlyingSymbol': 'ALIJ22.CMX',\n",
       " 'quoteType': 'FUTURE',\n",
       " 'symbol': 'ALI=F',\n",
       " 'underlyingExchangeSymbol': 'ALIJ22.CMX',\n",
       " 'headSymbol': 'ALI=F',\n",
       " 'market': 'us24_market',\n",
       " 'previousClose': 3751.25,\n",
       " 'regularMarketOpen': 3650,\n",
       " 'twoHundredDayAverage': 2771.6687,\n",
       " 'trailingAnnualDividendYield': None,\n",
       " 'payoutRatio': None,\n",
       " 'volume24Hr': None,\n",
       " 'regularMarketDayHigh': 3757.25,\n",
       " 'navPrice': None,\n",
       " 'averageDailyVolume10Day': 0,\n",
       " 'totalAssets': None,\n",
       " 'regularMarketPreviousClose': 3751.25,\n",
       " 'fiftyDayAverage': 3096.15,\n",
       " 'trailingAnnualDividendRate': None,\n",
       " 'open': 3650,\n",
       " 'toCurrency': None,\n",
       " 'averageVolume10days': 0,\n",
       " 'expireDate': 1651017600,\n",
       " 'yield': None,\n",
       " 'algorithm': None,\n",
       " 'dividendRate': None,\n",
       " 'exDividendDate': None,\n",
       " 'beta': None,\n",
       " 'circulatingSupply': None,\n",
       " 'startDate': None,\n",
       " 'regularMarketDayLow': 3650,\n",
       " 'priceHint': 2,\n",
       " 'currency': 'USD',\n",
       " 'regularMarketVolume': 1320,\n",
       " 'lastMarket': None,\n",
       " 'maxSupply': None,\n",
       " 'openInterest': 192,\n",
       " 'marketCap': None,\n",
       " 'volumeAllCurrencies': None,\n",
       " 'strikePrice': None,\n",
       " 'averageVolume': 0,\n",
       " 'priceToSalesTrailing12Months': None,\n",
       " 'dayLow': 3650,\n",
       " 'ask': 0,\n",
       " 'ytdReturn': None,\n",
       " 'askSize': 1000,\n",
       " 'volume': 1320,\n",
       " 'fiftyTwoWeekHigh': 3767.75,\n",
       " 'forwardPE': None,\n",
       " 'maxAge': 1,\n",
       " 'fromCurrency': None,\n",
       " 'fiveYearAvgDividendYield': None,\n",
       " 'fiftyTwoWeekLow': 2185,\n",
       " 'bid': 2700,\n",
       " 'tradeable': False,\n",
       " 'dividendYield': None,\n",
       " 'bidSize': 0,\n",
       " 'dayHigh': 3757.25,\n",
       " 'regularMarketPrice': 3853,\n",
       " 'preMarketPrice': None,\n",
       " 'logo_url': ''}"
      ]
     },
     "execution_count": 7,
     "metadata": {},
     "output_type": "execute_result"
    }
   ],
   "source": [
    "quotes.info"
   ]
  },
  {
   "cell_type": "code",
   "execution_count": 6,
   "id": "63f62a44",
   "metadata": {},
   "outputs": [
    {
     "data": {
      "text/plain": [
       "'Aluminum Futures,Apr-2022'"
      ]
     },
     "execution_count": 6,
     "metadata": {},
     "output_type": "execute_result"
    }
   ],
   "source": [
    "quotes.info['shortName']"
   ]
  },
  {
   "cell_type": "code",
   "execution_count": 78,
   "id": "523d30b5",
   "metadata": {},
   "outputs": [],
   "source": [
    "data['date']=df.index"
   ]
  },
  {
   "cell_type": "code",
   "execution_count": 79,
   "id": "36ee6725",
   "metadata": {},
   "outputs": [],
   "source": [
    "data=data.reset_index(drop=True)"
   ]
  },
  {
   "cell_type": "code",
   "execution_count": 80,
   "id": "fd5a0ba4",
   "metadata": {},
   "outputs": [],
   "source": [
    "data.columns=['crude_oil', 'natural_gas', 'copper', 'aluminum', 'date']"
   ]
  },
  {
   "cell_type": "code",
   "execution_count": 82,
   "id": "a30960e7",
   "metadata": {},
   "outputs": [],
   "source": [
    "data = data[['date','crude_oil', 'natural_gas', 'copper', 'aluminum']]"
   ]
  },
  {
   "cell_type": "code",
   "execution_count": 83,
   "id": "14054013",
   "metadata": {},
   "outputs": [
    {
     "data": {
      "text/html": [
       "<div>\n",
       "<style scoped>\n",
       "    .dataframe tbody tr th:only-of-type {\n",
       "        vertical-align: middle;\n",
       "    }\n",
       "\n",
       "    .dataframe tbody tr th {\n",
       "        vertical-align: top;\n",
       "    }\n",
       "\n",
       "    .dataframe thead th {\n",
       "        text-align: right;\n",
       "    }\n",
       "</style>\n",
       "<table border=\"1\" class=\"dataframe\">\n",
       "  <thead>\n",
       "    <tr style=\"text-align: right;\">\n",
       "      <th></th>\n",
       "      <th>date</th>\n",
       "      <th>crude_oil</th>\n",
       "      <th>natural_gas</th>\n",
       "      <th>copper</th>\n",
       "      <th>aluminum</th>\n",
       "    </tr>\n",
       "  </thead>\n",
       "  <tbody>\n",
       "    <tr>\n",
       "      <th>0</th>\n",
       "      <td>2015-01-01</td>\n",
       "      <td>53.759998</td>\n",
       "      <td>2.845</td>\n",
       "      <td>2.8420</td>\n",
       "      <td>2168.50</td>\n",
       "    </tr>\n",
       "    <tr>\n",
       "      <th>1</th>\n",
       "      <td>2015-04-01</td>\n",
       "      <td>47.549999</td>\n",
       "      <td>2.637</td>\n",
       "      <td>2.7495</td>\n",
       "      <td>2036.00</td>\n",
       "    </tr>\n",
       "    <tr>\n",
       "      <th>2</th>\n",
       "      <td>2015-05-01</td>\n",
       "      <td>59.790001</td>\n",
       "      <td>2.737</td>\n",
       "      <td>2.8845</td>\n",
       "      <td>2023.50</td>\n",
       "    </tr>\n",
       "    <tr>\n",
       "      <th>3</th>\n",
       "      <td>2015-06-01</td>\n",
       "      <td>60.290001</td>\n",
       "      <td>2.615</td>\n",
       "      <td>2.7635</td>\n",
       "      <td>1867.75</td>\n",
       "    </tr>\n",
       "    <tr>\n",
       "      <th>4</th>\n",
       "      <td>2015-07-01</td>\n",
       "      <td>58.980000</td>\n",
       "      <td>2.816</td>\n",
       "      <td>2.6225</td>\n",
       "      <td>1836.25</td>\n",
       "    </tr>\n",
       "    <tr>\n",
       "      <th>...</th>\n",
       "      <td>...</td>\n",
       "      <td>...</td>\n",
       "      <td>...</td>\n",
       "      <td>...</td>\n",
       "      <td>...</td>\n",
       "    </tr>\n",
       "    <tr>\n",
       "      <th>66</th>\n",
       "      <td>2021-07-01</td>\n",
       "      <td>73.500000</td>\n",
       "      <td>3.746</td>\n",
       "      <td>4.3000</td>\n",
       "      <td>2534.75</td>\n",
       "    </tr>\n",
       "    <tr>\n",
       "      <th>67</th>\n",
       "      <td>2021-09-01</td>\n",
       "      <td>68.550003</td>\n",
       "      <td>4.403</td>\n",
       "      <td>4.3510</td>\n",
       "      <td>2717.50</td>\n",
       "    </tr>\n",
       "    <tr>\n",
       "      <th>68</th>\n",
       "      <td>2021-10-01</td>\n",
       "      <td>75.120003</td>\n",
       "      <td>5.975</td>\n",
       "      <td>4.1500</td>\n",
       "      <td>2902.25</td>\n",
       "    </tr>\n",
       "    <tr>\n",
       "      <th>69</th>\n",
       "      <td>2021-11-01</td>\n",
       "      <td>83.360001</td>\n",
       "      <td>5.310</td>\n",
       "      <td>4.3545</td>\n",
       "      <td>2776.25</td>\n",
       "    </tr>\n",
       "    <tr>\n",
       "      <th>70</th>\n",
       "      <td>2021-12-01</td>\n",
       "      <td>67.010002</td>\n",
       "      <td>4.606</td>\n",
       "      <td>4.3035</td>\n",
       "      <td>2628.50</td>\n",
       "    </tr>\n",
       "  </tbody>\n",
       "</table>\n",
       "<p>71 rows × 5 columns</p>\n",
       "</div>"
      ],
      "text/plain": [
       "         date  crude_oil  natural_gas  copper  aluminum\n",
       "0  2015-01-01  53.759998        2.845  2.8420   2168.50\n",
       "1  2015-04-01  47.549999        2.637  2.7495   2036.00\n",
       "2  2015-05-01  59.790001        2.737  2.8845   2023.50\n",
       "3  2015-06-01  60.290001        2.615  2.7635   1867.75\n",
       "4  2015-07-01  58.980000        2.816  2.6225   1836.25\n",
       "..        ...        ...          ...     ...       ...\n",
       "66 2021-07-01  73.500000        3.746  4.3000   2534.75\n",
       "67 2021-09-01  68.550003        4.403  4.3510   2717.50\n",
       "68 2021-10-01  75.120003        5.975  4.1500   2902.25\n",
       "69 2021-11-01  83.360001        5.310  4.3545   2776.25\n",
       "70 2021-12-01  67.010002        4.606  4.3035   2628.50\n",
       "\n",
       "[71 rows x 5 columns]"
      ]
     },
     "execution_count": 83,
     "metadata": {},
     "output_type": "execute_result"
    }
   ],
   "source": [
    "data"
   ]
  },
  {
   "cell_type": "code",
   "execution_count": 90,
   "id": "693f3865",
   "metadata": {},
   "outputs": [],
   "source": [
    "data.to_csv('downloaded/futures.csv',index=False)"
   ]
  },
  {
   "cell_type": "code",
   "execution_count": null,
   "id": "52c15117",
   "metadata": {},
   "outputs": [],
   "source": []
  }
 ],
 "metadata": {
  "kernelspec": {
   "display_name": "Python 3 (ipykernel)",
   "language": "python",
   "name": "python3"
  },
  "language_info": {
   "codemirror_mode": {
    "name": "ipython",
    "version": 3
   },
   "file_extension": ".py",
   "mimetype": "text/x-python",
   "name": "python",
   "nbconvert_exporter": "python",
   "pygments_lexer": "ipython3",
   "version": "3.9.7"
  }
 },
 "nbformat": 4,
 "nbformat_minor": 5
}
